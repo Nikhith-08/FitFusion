{
 "cells": [
  {
   "cell_type": "code",
   "execution_count": 32,
   "metadata": {},
   "outputs": [
    {
     "data": {
      "text/plain": [
       "Title          object\n",
       "Desc           object\n",
       "Type           object\n",
       "BodyPart       object\n",
       "Equipment      object\n",
       "Level          object\n",
       "Rating        float64\n",
       "RatingDesc     object\n",
       "dtype: object"
      ]
     },
     "execution_count": 4,
     "metadata": {},
     "output_type": "execute_result"
    }
   ],
   "source": [
    "import pandas as pd\n",
    "\n",
    "# Load the datasets\n",
    "megagym_df = pd.read_csv(\"MegaGymDataBase.csv\")\n",
    "gymrec_df = pd.read_csv(\"GymRecommendation.csv\")\n",
    "\n",
    "# Display basic info\n",
    "megagym_df.head() \n",
    "\n"
   ]
  },
  {
   "cell_type": "code",
   "execution_count": 33,
   "metadata": {},
   "outputs": [
    {
     "name": "stdout",
     "output_type": "stream",
     "text": [
      "Preprocessing complete!\n"
     ]
    },
    {
     "name": "stderr",
     "output_type": "stream",
     "text": [
      "C:\\Users\\bochk\\AppData\\Local\\Temp\\ipykernel_12192\\1421985918.py:4: FutureWarning: DataFrame.fillna with 'method' is deprecated and will raise in a future version. Use obj.ffill() or obj.bfill() instead.\n",
      "  gymrec_df.fillna(method='ffill', inplace=True)\n"
     ]
    }
   ],
   "source": [
    "from sklearn.preprocessing import LabelEncoder, StandardScaler\n",
    "\n",
    "# Fill missing values (if any)\n",
    "gymrec_df.fillna(method='ffill', inplace=True)  \n",
    "\n",
    "# Encode categorical variables\n",
    "label_encoders = {}\n",
    "categorical_columns = [\"Sex\", \"Fitness Goal\", \"Fitness Type\", \"Exercises\", \"Equipment\", \"Diet\"]\n",
    "\n",
    "for col in categorical_columns:\n",
    "    le = LabelEncoder()\n",
    "    gymrec_df[col] = le.fit_transform(gymrec_df[col])\n",
    "    label_encoders[col] = le  # Save encoder for later use\n",
    "\n",
    "# Normalize numerical columns\n",
    "scaler = StandardScaler()\n",
    "numerical_columns = [\"Age\", \"Height\", \"Weight\", \"BMI\"]\n",
    "gymrec_df[numerical_columns] = scaler.fit_transform(gymrec_df[numerical_columns])\n",
    "\n",
    "print(\"Preprocessing complete!\")"
   ]
  },
  {
   "cell_type": "code",
   "execution_count": 34,
   "metadata": {},
   "outputs": [],
   "source": [
    "X = gymrec_df[[\"Sex\", \"Age\", \"Height\", \"Weight\", \"BMI\", \"Hypertension\", \"Diabetes\", \"Level\", \"Fitness Goal\"]]\n",
    "y = gymrec_df[[\"Exercises\", \"Diet\"]]"
   ]
  },
  {
   "cell_type": "code",
   "execution_count": 35,
   "metadata": {},
   "outputs": [],
   "source": [
    "from sklearn.model_selection import train_test_split\n",
    "\n",
    "X_train, X_test, y_train, y_test = train_test_split(X, y, test_size=0.2, random_state=42)"
   ]
  },
  {
   "cell_type": "code",
   "execution_count": 36,
   "metadata": {},
   "outputs": [
    {
     "name": "stdout",
     "output_type": "stream",
     "text": [
      "Sex               int64\n",
      "Age             float64\n",
      "Height          float64\n",
      "Weight          float64\n",
      "BMI             float64\n",
      "Hypertension     object\n",
      "Diabetes         object\n",
      "Level            object\n",
      "Fitness Goal      int64\n",
      "dtype: object\n",
      "       Sex       Age    Height    Weight       BMI Hypertension Diabetes  \\\n",
      "13082    1  0.791765  0.612985  1.172944  0.876941          Yes      Yes   \n",
      "5502     0 -0.193665  1.428268  1.722122  0.974504          Yes       No   \n",
      "1570     1 -1.027491 -0.508029 -1.148580 -1.029957           No      Yes   \n",
      "9159     0  0.261149  0.918716 -1.523019 -1.764630          Yes      Yes   \n",
      "9581     1  1.246579 -1.527133 -0.574439  0.021054          Yes       No   \n",
      "\n",
      "             Level  Fitness Goal  \n",
      "13082        Obuse             1  \n",
      "5502         Obuse             1  \n",
      "1570   Underweight             0  \n",
      "9159   Underweight             0  \n",
      "9581        Normal             0  \n"
     ]
    }
   ],
   "source": [
    "print(X_train.dtypes)\n",
    "print(X_train.head())"
   ]
  },
  {
   "cell_type": "code",
   "execution_count": 37,
   "metadata": {},
   "outputs": [
    {
     "name": "stdout",
     "output_type": "stream",
     "text": [
      "Columns in X_train: Index(['Sex', 'Age', 'Height', 'Weight', 'BMI', 'Hypertension', 'Diabetes',\n",
      "       'Level', 'Fitness Goal'],\n",
      "      dtype='object')\n"
     ]
    }
   ],
   "source": [
    "print(\"Columns in X_train:\", X_train.columns)"
   ]
  },
  {
   "cell_type": "code",
   "execution_count": 38,
   "metadata": {},
   "outputs": [],
   "source": [
    "X_train.columns = X_train.columns.str.strip()  # Remove extra spaces"
   ]
  },
  {
   "cell_type": "code",
   "execution_count": 39,
   "metadata": {},
   "outputs": [
    {
     "name": "stdout",
     "output_type": "stream",
     "text": [
      "Final categorical columns: ['Sex', 'Fitness Goal']\n"
     ]
    }
   ],
   "source": [
    "categorical_columns = [col for col in [\"Sex\", \"Fitness Goal\", \"Fitness Type\", \"Exercises\", \"Equipment\", \"Diet\"] if col in X_train.columns]\n",
    "print(\"Final categorical columns:\", categorical_columns)"
   ]
  },
  {
   "cell_type": "code",
   "execution_count": 40,
   "metadata": {},
   "outputs": [
    {
     "name": "stdout",
     "output_type": "stream",
     "text": [
      "Categorical features encoded successfully!\n"
     ]
    }
   ],
   "source": [
    "from sklearn.preprocessing import LabelEncoder\n",
    "\n",
    "label_encoders = {}\n",
    "\n",
    "for col in categorical_columns:\n",
    "    le = LabelEncoder()\n",
    "    X_train[col] = le.fit_transform(X_train[col])\n",
    "    X_test[col] = le.transform(X_test[col])\n",
    "    label_encoders[col] = le  # Store encoders for later use\n",
    "\n",
    "print(\"Categorical features encoded successfully!\")\n"
   ]
  },
  {
   "cell_type": "code",
   "execution_count": 41,
   "metadata": {},
   "outputs": [
    {
     "name": "stdout",
     "output_type": "stream",
     "text": [
      "Target encoding complete!\n"
     ]
    }
   ],
   "source": [
    "# Encoding target variables\n",
    "label_enc_exercise = LabelEncoder()\n",
    "label_enc_diet = LabelEncoder()\n",
    "\n",
    "y_train_exercise = label_enc_exercise.fit_transform(y_train[\"Exercises\"])\n",
    "y_train_diet = label_enc_diet.fit_transform(y_train[\"Diet\"])\n",
    "\n",
    "y_test_exercise = label_enc_exercise.transform(y_test[\"Exercises\"])\n",
    "y_test_diet = label_enc_diet.transform(y_test[\"Diet\"])\n",
    "\n",
    "print(\"Target encoding complete!\")\n"
   ]
  },
  {
   "cell_type": "code",
   "execution_count": 42,
   "metadata": {},
   "outputs": [
    {
     "name": "stdout",
     "output_type": "stream",
     "text": [
      "X_train column data types:\n",
      " Sex               int64\n",
      "Age             float64\n",
      "Height          float64\n",
      "Weight          float64\n",
      "BMI             float64\n",
      "Hypertension     object\n",
      "Diabetes         object\n",
      "Level            object\n",
      "Fitness Goal      int64\n",
      "dtype: object\n",
      "\n",
      "Unique values in each column:\n",
      "\n",
      "Sex: [1 0]\n",
      "Age: [ 0.79176539 -0.19366516 -1.027491    0.26114894  1.24657948 -0.95168865\n",
      " -1.1790957   1.77719593 -0.64847925  1.32238183 -0.34526986  0.33695129\n",
      "  1.01917243 -0.11786281  1.54978888 -0.49687455 -0.5726769  -0.8758863\n",
      "  0.10954424  1.62559123 -1.4823051   0.03374189 -0.7242816   1.39818418\n",
      "  1.70139358  1.47398653 -1.10329335 -0.80008395  0.71596304 -0.42107221\n",
      "  0.56435834 -0.04206046  0.64016069 -1.25489805 -1.6339098   0.86756774\n",
      "  0.94337009  1.17077713 -1.3307004  -1.40650275  0.18534659  0.48855599\n",
      " -0.26946751  0.41275364 -1.55810745  1.09497478]\n",
      "Height: [ 6.12985049e-01  1.42826802e+00 -5.08029032e-01  9.18716162e-01\n",
      " -1.52713274e+00  1.52282274e-03 -4.06118661e-01 -1.01758089e+00\n",
      "  5.11074678e-01 -2.02297919e-01  1.22444728e+00 -1.93477423e+00\n",
      "  8.16805791e-01 -3.04208290e-01  7.14895420e-01  2.05343565e-01\n",
      " -4.07489202e+00 -1.22140163e+00 -8.13760146e-01 -1.32331200e+00\n",
      "  1.32635765e+00  4.09164307e-01 -1.83286386e+00  1.53017839e+00\n",
      "  1.73399913e+00  1.12253690e+00 -6.09939404e-01 -9.15670517e-01\n",
      "  1.83590950e+00 -1.62904311e+00 -7.11849775e-01 -2.13859497e+00\n",
      "  1.02062653e+00 -1.11949126e+00 -1.42522237e+00  1.63208876e+00\n",
      "  3.07253936e-01 -1.00387548e-01 -2.64814682e+00  1.03433194e-01\n",
      " -2.03668460e+00  2.24355099e+00  2.03973024e+00 -2.24050534e+00\n",
      " -1.73095348e+00  1.93781987e+00  2.14164061e+00  2.34546136e+00\n",
      " -3.05578831e+00  2.75310284e+00  2.54928210e+00  2.65119247e+00\n",
      "  3.16074432e+00  2.95692358e+00  2.85501321e+00  3.05883395e+00]\n",
      "Weight: [ 1.17294407  1.72212172 -1.14857963 -1.52301894 -0.57443936  1.572346\n",
      " -0.72421509 -1.67279466 -0.52451412 -0.2499253  -0.77414033  1.02316835\n",
      " -1.17354225 -1.27339274  1.22286931 -1.02376653  1.19790669  1.32271979\n",
      " -0.64932722  0.57384118  2.57085081  0.04962615  1.42257027 -0.22496268\n",
      "  1.12301883 -1.39820584  0.92331786 -0.15007482 -0.69925247  0.62376642\n",
      " -0.82406557 -1.57294418  0.87339262  0.7236169  -1.42316846 -1.18851983\n",
      "  1.92182268 -1.0387441   0.17443925 -1.37324322  0.07458877  0.67369166\n",
      "  1.62227124  0.27428973 -1.4730937  -0.07518695  0.37414021 -0.02526171\n",
      "  0.9732431   0.90334777  1.47249551 -1.32331798 -0.97384129  0.12451401\n",
      "  0.82346738  0.64872904 -1.82257039 -0.74917771 -1.22346749  0.32421497\n",
      "  0.77354214  0.52391594 -1.29336283  2.0715984  -0.3747384  -0.42466364\n",
      "  0.54887856 -0.92391605  1.37264503  0.3092374  -0.67428985 -0.87399081\n",
      "  0.34817909 -0.84902819 -0.39970102  1.27279455  0.34917759  0.22436449\n",
      " -0.99880391  1.07309359 -0.86400576  0.94828048  2.32122461  2.62077605\n",
      " -1.29835536  1.97174792 -0.4995515   1.24783193  0.39910283 -1.12361701\n",
      " -0.06520191  0.89835524  0.02466353  2.87040226  0.19940187 -0.34977578\n",
      "  0.34718058 -0.32481316 -1.19850487 -1.09865439  0.42406545 -1.62286942\n",
      " -0.27488792 -0.10014957 -0.17503744 -1.12860954 -1.11363196 -0.66929732\n",
      " -1.19351235 -0.1251122   0.2892673  -0.6243646  -0.47458888  0.99820573\n",
      " -1.07369177 -0.63434965 -0.89895343 -0.98382634  0.29925235  2.47100033\n",
      "  0.79850476  0.3511746   1.8219722  -1.28337778  2.12152365 -0.94887867\n",
      "  2.6707013  -0.63934218  0.14947663 -1.28837031 -0.65931227  2.27129937\n",
      "  2.97025274  0.4739907  -1.24843012  0.69865428 -1.27838526  1.87189744\n",
      " -0.30983559 -0.68926742 -1.92242087  2.9203275  -0.47958141  0.49895332\n",
      " -1.79760777 -1.87249563  0.16944673  1.67219648 -0.20000006  0.24433459\n",
      "  1.52242075  2.22137413  0.34767984  0.34867834 -0.68427489 -0.67928237\n",
      " -1.7227199  -1.3482806  -1.5979068  -0.79910295  0.25431964  2.02167316\n",
      " -0.71423004 -0.44962626 -1.41318341 -1.77264514 -0.05022433  0.84843\n",
      " -0.69425994 -1.23844507 -1.04872915  1.09805621 -0.41467859  0.45901312\n",
      "  2.42107509 -1.49805632  0.90834029 -0.59940198 -1.41817593 -0.54947674\n",
      "  0.3501761  -1.31333293  0.34668133  1.77204696 -0.70424499  1.14798145\n",
      "  0.35067535 -1.40819089  2.52092557 -1.0786843   2.77055178 -1.03375158\n",
      " -1.40319836 -1.15357216  2.17144889  0.5988038  -0.6643048  -0.6443347\n",
      " -1.38322827  0.36914769  0.34967685  0.23934206  1.90185259  0.10953644\n",
      " -0.65431975  0.35167386 -1.30334788  2.72062654  0.24932711 -0.7691478\n",
      "  0.44902808 -0.62935713  0.09955139  2.82047702  2.37114985 -0.809088  ]\n",
      "BMI: [ 0.87694139  0.97450364 -1.02995705 ... -0.56727549  0.67442582\n",
      " -1.83410647]\n",
      "Hypertension: ['Yes' 'No']\n",
      "Diabetes: ['Yes' 'No']\n",
      "Level: ['Obuse' 'Underweight' 'Normal' 'Overweight']\n",
      "Fitness Goal: [1 0]\n"
     ]
    }
   ],
   "source": [
    "print(\"X_train column data types:\\n\", X_train.dtypes)\n",
    "print(\"\\nUnique values in each column:\\n\")\n",
    "for col in X_train.columns:\n",
    "    print(f\"{col}: {X_train[col].unique()}\")"
   ]
  },
  {
   "cell_type": "code",
   "execution_count": 43,
   "metadata": {},
   "outputs": [
    {
     "name": "stdout",
     "output_type": "stream",
     "text": [
      "Categorical columns to encode: Index(['Hypertension', 'Diabetes', 'Level'], dtype='object')\n",
      "✅ All categorical features encoded successfully!\n",
      "\n",
      "       Sex       Age    Height    Weight       BMI  Hypertension  Diabetes  \\\n",
      "13082    1  0.791765  0.612985  1.172944  0.876941             1         1   \n",
      "5502     0 -0.193665  1.428268  1.722122  0.974504             1         0   \n",
      "1570     1 -1.027491 -0.508029 -1.148580 -1.029957             0         1   \n",
      "9159     0  0.261149  0.918716 -1.523019 -1.764630             1         1   \n",
      "9581     1  1.246579 -1.527133 -0.574439  0.021054             1         0   \n",
      "\n",
      "       Level  Fitness Goal  \n",
      "13082      1             1  \n",
      "5502       1             1  \n",
      "1570       3             0  \n",
      "9159       3             0  \n",
      "9581       0             0  \n"
     ]
    }
   ],
   "source": [
    "from sklearn.preprocessing import LabelEncoder\n",
    "\n",
    "# Identify columns that are still categorical\n",
    "categorical_columns = X_train.select_dtypes(include=['object']).columns\n",
    "print(\"Categorical columns to encode:\", categorical_columns)\n",
    "\n",
    "# Apply Label Encoding\n",
    "label_encoders = {}\n",
    "for col in categorical_columns:\n",
    "    le = LabelEncoder()\n",
    "    X_train[col] = le.fit_transform(X_train[col])\n",
    "    X_test[col] = le.transform(X_test[col])  # Ensure test data is encoded the same way\n",
    "    label_encoders[col] = le  # Store for decoding later\n",
    "\n",
    "print(\"✅ All categorical features encoded successfully!\\n\")\n",
    "print(X_train.head())  # Verify that all values are numeric"
   ]
  },
  {
   "cell_type": "code",
   "execution_count": 44,
   "metadata": {},
   "outputs": [
    {
     "name": "stdout",
     "output_type": "stream",
     "text": [
      "✅ Target variables encoded successfully!\n"
     ]
    }
   ],
   "source": [
    "# Encode target variables (Exercises and Diet)\n",
    "label_enc_exercise = LabelEncoder()\n",
    "label_enc_diet = LabelEncoder()\n",
    "\n",
    "y_train_exercise = label_enc_exercise.fit_transform(y_train[\"Exercises\"])\n",
    "y_train_diet = label_enc_diet.fit_transform(y_train[\"Diet\"])\n",
    "\n",
    "y_test_exercise = label_enc_exercise.transform(y_test[\"Exercises\"])\n",
    "y_test_diet = label_enc_diet.transform(y_test[\"Diet\"])\n",
    "\n",
    "print(\"✅ Target variables encoded successfully!\")"
   ]
  },
  {
   "cell_type": "code",
   "execution_count": 45,
   "metadata": {},
   "outputs": [
    {
     "name": "stdout",
     "output_type": "stream",
     "text": [
      "Exercise Model Accuracy: 0.997943797121316\n",
      "Diet Model Accuracy: 0.9479095270733379\n"
     ]
    }
   ],
   "source": [
    "from sklearn.preprocessing import LabelEncoder\n",
    "from sklearn.ensemble import RandomForestClassifier\n",
    "from sklearn.metrics import accuracy_score\n",
    "\n",
    "# Encode target variables (Exercises and Diet)\n",
    "label_enc_exercise = LabelEncoder()\n",
    "label_enc_diet = LabelEncoder()\n",
    "\n",
    "y_train_exercise = label_enc_exercise.fit_transform(y_train[\"Exercises\"])\n",
    "y_train_diet = label_enc_diet.fit_transform(y_train[\"Diet\"])\n",
    "\n",
    "y_test_exercise = label_enc_exercise.transform(y_test[\"Exercises\"])\n",
    "y_test_diet = label_enc_diet.transform(y_test[\"Diet\"])\n",
    "\n",
    "# Train separate models\n",
    "exercise_model = RandomForestClassifier(n_estimators=100, random_state=42)\n",
    "diet_model = RandomForestClassifier(n_estimators=100, random_state=42)\n",
    "\n",
    "exercise_model.fit(X_train, y_train_exercise)\n",
    "diet_model.fit(X_train, y_train_diet)\n",
    "\n",
    "# Predictions\n",
    "y_pred_exercise = exercise_model.predict(X_test)\n",
    "y_pred_diet = diet_model.predict(X_test)\n",
    "\n",
    "# Evaluate accuracy\n",
    "exercise_accuracy = accuracy_score(y_test_exercise, y_pred_exercise)\n",
    "diet_accuracy = accuracy_score(y_test_diet, y_pred_diet)\n",
    "\n",
    "print(f\"Exercise Model Accuracy: {exercise_accuracy}\")\n",
    "print(f\"Diet Model Accuracy: {diet_accuracy}\")"
   ]
  },
  {
   "cell_type": "code",
   "execution_count": 46,
   "metadata": {},
   "outputs": [
    {
     "name": "stdout",
     "output_type": "stream",
     "text": [
      "Recommended Exercises and Diet:\n",
      "       Exercises  Diet\n",
      "14295          0     1\n",
      "14039          0     1\n",
      "14262          0     1\n",
      "14550          0     1\n",
      "14552          0     1\n"
     ]
    },
    {
     "name": "stderr",
     "output_type": "stream",
     "text": [
      "c:\\Users\\bochk\\AppData\\Local\\Programs\\Python\\Python313\\Lib\\site-packages\\sklearn\\utils\\validation.py:2739: UserWarning: X does not have valid feature names, but NearestNeighbors was fitted with feature names\n",
      "  warnings.warn(\n"
     ]
    }
   ],
   "source": [
    "from sklearn.neighbors import NearestNeighbors\n",
    "\n",
    "# Train a recommendation model\n",
    "knn = NearestNeighbors(n_neighbors=5, metric='euclidean')\n",
    "knn.fit(X_train)\n",
    "\n",
    "# Predict recommendations for a sample user\n",
    "sample_user = X_test.iloc[0].values.reshape(1, -1)\n",
    "distances, indices = knn.kneighbors(sample_user)\n",
    "\n",
    "# Show recommendations\n",
    "print(\"Recommended Exercises and Diet:\")\n",
    "print(y_train.iloc[indices[0]])"
   ]
  },
  {
   "cell_type": "code",
   "execution_count": 47,
   "metadata": {},
   "outputs": [
    {
     "data": {
      "text/plain": [
       "['fitness_recommender.pkl']"
      ]
     },
     "execution_count": 47,
     "metadata": {},
     "output_type": "execute_result"
    }
   ],
   "source": [
    "import joblib\n",
    "\n",
    "joblib.dump(model, \"fitness_recommender.pkl\")"
   ]
  },
  {
   "cell_type": "code",
   "execution_count": 49,
   "metadata": {},
   "outputs": [
    {
     "name": "stdout",
     "output_type": "stream",
     "text": [
      "Loaded Model: RandomForestClassifier(random_state=42)\n"
     ]
    }
   ],
   "source": [
    "import joblib\n",
    "\n",
    "# Load the model\n",
    "model = joblib.load(\"fitness_recommender.pkl\")\n",
    "print(\"Loaded Model:\", model)"
   ]
  },
  {
   "cell_type": "code",
   "execution_count": 50,
   "metadata": {},
   "outputs": [
    {
     "name": "stdout",
     "output_type": "stream",
     "text": [
      "Model saved successfully!\n"
     ]
    }
   ],
   "source": [
    "from sklearn.ensemble import RandomForestClassifier\n",
    "import joblib\n",
    "\n",
    "# Train the model again (assuming X_train and y_train are available)\n",
    "model = RandomForestClassifier(n_estimators=100, random_state=42)\n",
    "model.fit(X_train, y_train_exercise)  # Ensure correct dataset\n",
    "\n",
    "# Save properly\n",
    "joblib.dump(model, \"fitness_recommender.pkl\")\n",
    "print(\"Model saved successfully!\")"
   ]
  },
  {
   "cell_type": "code",
   "execution_count": 52,
   "metadata": {},
   "outputs": [
    {
     "name": "stdout",
     "output_type": "stream",
     "text": [
      "X_train shape: (11671, 9)\n",
      "Feature Names: Index(['Sex', 'Age', 'Height', 'Weight', 'BMI', 'Hypertension', 'Diabetes',\n",
      "       'Level', 'Fitness Goal'],\n",
      "      dtype='object')\n"
     ]
    }
   ],
   "source": [
    "print(\"X_train shape:\", X_train.shape)\n",
    "print(\"Feature Names:\", X_train.columns)"
   ]
  },
  {
   "cell_type": "code",
   "execution_count": 53,
   "metadata": {},
   "outputs": [
    {
     "name": "stdout",
     "output_type": "stream",
     "text": [
      "Transformed input: [[ 25 175  70   1   0]]\n"
     ]
    }
   ],
   "source": [
    "from sklearn.preprocessing import LabelEncoder\n",
    "import numpy as np\n",
    "\n",
    "# Load encoders used during training\n",
    "label_enc_goal = LabelEncoder()\n",
    "label_enc_goal.fit(X_train[\"Fitness Goal\"])  # Fit with training data\n",
    "\n",
    "# Convert categorical input values using the same encoding\n",
    "fitness_goal_encoded = label_enc_goal.transform([1])  # Example input: \"1\"\n",
    "\n",
    "# Ensure input is correctly formatted\n",
    "sample_input = np.array([[25, 175, 70, fitness_goal_encoded[0], 0]])\n",
    "\n",
    "print(\"Transformed input:\", sample_input)\n"
   ]
  },
  {
   "cell_type": "code",
   "execution_count": 55,
   "metadata": {},
   "outputs": [
    {
     "name": "stdout",
     "output_type": "stream",
     "text": [
      "X_train shape: (11671, 9)\n",
      "Feature Names: ['Sex', 'Age', 'Height', 'Weight', 'BMI', 'Hypertension', 'Diabetes', 'Level', 'Fitness Goal']\n"
     ]
    }
   ],
   "source": [
    "print(\"X_train shape:\", X_train.shape)\n",
    "print(\"Feature Names:\", list(X_train.columns))\n"
   ]
  },
  {
   "cell_type": "code",
   "execution_count": 56,
   "metadata": {},
   "outputs": [],
   "source": [
    "sample_input = np.array([[25, 175, 70, 1, 0, 0, 0, 22.8, 2]])  \n",
    "# Example values: Age, Height, Weight, Fitness Goal, Duration, Hypertension, Diabetes, BMI, Level\n"
   ]
  },
  {
   "cell_type": "code",
   "execution_count": 57,
   "metadata": {},
   "outputs": [
    {
     "name": "stdout",
     "output_type": "stream",
     "text": [
      "Updated input shape: (1, 9)\n"
     ]
    }
   ],
   "source": [
    "from sklearn.preprocessing import LabelEncoder\n",
    "import numpy as np\n",
    "\n",
    "# Load the encoders (assuming they were used in training)\n",
    "label_enc_goal = LabelEncoder()\n",
    "label_enc_level = LabelEncoder()\n",
    "\n",
    "# Fit with the original training data categories\n",
    "label_enc_goal.fit(X_train[\"Fitness Goal\"])\n",
    "label_enc_level.fit(X_train[\"Level\"])\n",
    "\n",
    "# Transform categorical input values\n",
    "fitness_goal_encoded = label_enc_goal.transform([1])[0]  \n",
    "level_encoded = label_enc_level.transform([2])[0]  \n",
    "\n",
    "# Corrected input with all features\n",
    "sample_input = np.array([[25, 175, 70, fitness_goal_encoded, 0, 0, 0, 22.8, level_encoded]])\n",
    "\n",
    "print(\"Updated input shape:\", sample_input.shape)\n"
   ]
  },
  {
   "cell_type": "code",
   "execution_count": 58,
   "metadata": {},
   "outputs": [
    {
     "name": "stdout",
     "output_type": "stream",
     "text": [
      "Recommended Plan: [0]\n"
     ]
    },
    {
     "name": "stderr",
     "output_type": "stream",
     "text": [
      "c:\\Users\\bochk\\AppData\\Local\\Programs\\Python\\Python313\\Lib\\site-packages\\sklearn\\utils\\validation.py:2739: UserWarning: X does not have valid feature names, but RandomForestClassifier was fitted with feature names\n",
      "  warnings.warn(\n"
     ]
    }
   ],
   "source": [
    "import joblib\n",
    "\n",
    "# Load the saved model\n",
    "model = joblib.load(\"fitness_recommender.pkl\")\n",
    "\n",
    "# Make the prediction\n",
    "prediction = model.predict(sample_input)\n",
    "\n",
    "print(\"Recommended Plan:\", prediction)\n"
   ]
  },
  {
   "cell_type": "code",
   "execution_count": null,
   "metadata": {},
   "outputs": [],
   "source": []
  },
  {
   "cell_type": "code",
   "execution_count": null,
   "metadata": {},
   "outputs": [],
   "source": []
  },
  {
   "cell_type": "code",
   "execution_count": 51,
   "metadata": {},
   "outputs": [
    {
     "name": "stdout",
     "output_type": "stream",
     "text": [
      "Expected input shape: (1, 5)\n"
     ]
    },
    {
     "name": "stderr",
     "output_type": "stream",
     "text": [
      "c:\\Users\\bochk\\AppData\\Local\\Programs\\Python\\Python313\\Lib\\site-packages\\sklearn\\utils\\validation.py:2739: UserWarning: X does not have valid feature names, but RandomForestClassifier was fitted with feature names\n",
      "  warnings.warn(\n"
     ]
    },
    {
     "ename": "ValueError",
     "evalue": "X has 5 features, but RandomForestClassifier is expecting 9 features as input.",
     "output_type": "error",
     "traceback": [
      "\u001b[31m---------------------------------------------------------------------------\u001b[39m",
      "\u001b[31mValueError\u001b[39m                                Traceback (most recent call last)",
      "\u001b[36mCell\u001b[39m\u001b[36m \u001b[39m\u001b[32mIn[59]\u001b[39m\u001b[32m, line 13\u001b[39m\n\u001b[32m     10\u001b[39m \u001b[38;5;28mprint\u001b[39m(\u001b[33m\"\u001b[39m\u001b[33mExpected input shape:\u001b[39m\u001b[33m\"\u001b[39m, sample_input.shape)\n\u001b[32m     12\u001b[39m \u001b[38;5;66;03m# Make a prediction\u001b[39;00m\n\u001b[32m---> \u001b[39m\u001b[32m13\u001b[39m prediction = \u001b[43mmodel\u001b[49m\u001b[43m.\u001b[49m\u001b[43mpredict\u001b[49m\u001b[43m(\u001b[49m\u001b[43msample_input\u001b[49m\u001b[43m)\u001b[49m\n\u001b[32m     14\u001b[39m \u001b[38;5;28mprint\u001b[39m(\u001b[33m\"\u001b[39m\u001b[33mRecommended Plan:\u001b[39m\u001b[33m\"\u001b[39m, prediction)\n",
      "\u001b[36mFile \u001b[39m\u001b[32mc:\\Users\\bochk\\AppData\\Local\\Programs\\Python\\Python313\\Lib\\site-packages\\sklearn\\ensemble\\_forest.py:904\u001b[39m, in \u001b[36mForestClassifier.predict\u001b[39m\u001b[34m(self, X)\u001b[39m\n\u001b[32m    883\u001b[39m \u001b[38;5;28;01mdef\u001b[39;00m\u001b[38;5;250m \u001b[39m\u001b[34mpredict\u001b[39m(\u001b[38;5;28mself\u001b[39m, X):\n\u001b[32m    884\u001b[39m \u001b[38;5;250m    \u001b[39m\u001b[33;03m\"\"\"\u001b[39;00m\n\u001b[32m    885\u001b[39m \u001b[33;03m    Predict class for X.\u001b[39;00m\n\u001b[32m    886\u001b[39m \n\u001b[32m   (...)\u001b[39m\u001b[32m    902\u001b[39m \u001b[33;03m        The predicted classes.\u001b[39;00m\n\u001b[32m    903\u001b[39m \u001b[33;03m    \"\"\"\u001b[39;00m\n\u001b[32m--> \u001b[39m\u001b[32m904\u001b[39m     proba = \u001b[38;5;28;43mself\u001b[39;49m\u001b[43m.\u001b[49m\u001b[43mpredict_proba\u001b[49m\u001b[43m(\u001b[49m\u001b[43mX\u001b[49m\u001b[43m)\u001b[49m\n\u001b[32m    906\u001b[39m     \u001b[38;5;28;01mif\u001b[39;00m \u001b[38;5;28mself\u001b[39m.n_outputs_ == \u001b[32m1\u001b[39m:\n\u001b[32m    907\u001b[39m         \u001b[38;5;28;01mreturn\u001b[39;00m \u001b[38;5;28mself\u001b[39m.classes_.take(np.argmax(proba, axis=\u001b[32m1\u001b[39m), axis=\u001b[32m0\u001b[39m)\n",
      "\u001b[36mFile \u001b[39m\u001b[32mc:\\Users\\bochk\\AppData\\Local\\Programs\\Python\\Python313\\Lib\\site-packages\\sklearn\\ensemble\\_forest.py:946\u001b[39m, in \u001b[36mForestClassifier.predict_proba\u001b[39m\u001b[34m(self, X)\u001b[39m\n\u001b[32m    944\u001b[39m check_is_fitted(\u001b[38;5;28mself\u001b[39m)\n\u001b[32m    945\u001b[39m \u001b[38;5;66;03m# Check data\u001b[39;00m\n\u001b[32m--> \u001b[39m\u001b[32m946\u001b[39m X = \u001b[38;5;28;43mself\u001b[39;49m\u001b[43m.\u001b[49m\u001b[43m_validate_X_predict\u001b[49m\u001b[43m(\u001b[49m\u001b[43mX\u001b[49m\u001b[43m)\u001b[49m\n\u001b[32m    948\u001b[39m \u001b[38;5;66;03m# Assign chunk of trees to jobs\u001b[39;00m\n\u001b[32m    949\u001b[39m n_jobs, _, _ = _partition_estimators(\u001b[38;5;28mself\u001b[39m.n_estimators, \u001b[38;5;28mself\u001b[39m.n_jobs)\n",
      "\u001b[36mFile \u001b[39m\u001b[32mc:\\Users\\bochk\\AppData\\Local\\Programs\\Python\\Python313\\Lib\\site-packages\\sklearn\\ensemble\\_forest.py:638\u001b[39m, in \u001b[36mBaseForest._validate_X_predict\u001b[39m\u001b[34m(self, X)\u001b[39m\n\u001b[32m    635\u001b[39m \u001b[38;5;28;01melse\u001b[39;00m:\n\u001b[32m    636\u001b[39m     ensure_all_finite = \u001b[38;5;28;01mTrue\u001b[39;00m\n\u001b[32m--> \u001b[39m\u001b[32m638\u001b[39m X = \u001b[43mvalidate_data\u001b[49m\u001b[43m(\u001b[49m\n\u001b[32m    639\u001b[39m \u001b[43m    \u001b[49m\u001b[38;5;28;43mself\u001b[39;49m\u001b[43m,\u001b[49m\n\u001b[32m    640\u001b[39m \u001b[43m    \u001b[49m\u001b[43mX\u001b[49m\u001b[43m,\u001b[49m\n\u001b[32m    641\u001b[39m \u001b[43m    \u001b[49m\u001b[43mdtype\u001b[49m\u001b[43m=\u001b[49m\u001b[43mDTYPE\u001b[49m\u001b[43m,\u001b[49m\n\u001b[32m    642\u001b[39m \u001b[43m    \u001b[49m\u001b[43maccept_sparse\u001b[49m\u001b[43m=\u001b[49m\u001b[33;43m\"\u001b[39;49m\u001b[33;43mcsr\u001b[39;49m\u001b[33;43m\"\u001b[39;49m\u001b[43m,\u001b[49m\n\u001b[32m    643\u001b[39m \u001b[43m    \u001b[49m\u001b[43mreset\u001b[49m\u001b[43m=\u001b[49m\u001b[38;5;28;43;01mFalse\u001b[39;49;00m\u001b[43m,\u001b[49m\n\u001b[32m    644\u001b[39m \u001b[43m    \u001b[49m\u001b[43mensure_all_finite\u001b[49m\u001b[43m=\u001b[49m\u001b[43mensure_all_finite\u001b[49m\u001b[43m,\u001b[49m\n\u001b[32m    645\u001b[39m \u001b[43m\u001b[49m\u001b[43m)\u001b[49m\n\u001b[32m    646\u001b[39m \u001b[38;5;28;01mif\u001b[39;00m issparse(X) \u001b[38;5;129;01mand\u001b[39;00m (X.indices.dtype != np.intc \u001b[38;5;129;01mor\u001b[39;00m X.indptr.dtype != np.intc):\n\u001b[32m    647\u001b[39m     \u001b[38;5;28;01mraise\u001b[39;00m \u001b[38;5;167;01mValueError\u001b[39;00m(\u001b[33m\"\u001b[39m\u001b[33mNo support for np.int64 index based sparse matrices\u001b[39m\u001b[33m\"\u001b[39m)\n",
      "\u001b[36mFile \u001b[39m\u001b[32mc:\\Users\\bochk\\AppData\\Local\\Programs\\Python\\Python313\\Lib\\site-packages\\sklearn\\utils\\validation.py:2965\u001b[39m, in \u001b[36mvalidate_data\u001b[39m\u001b[34m(_estimator, X, y, reset, validate_separately, skip_check_array, **check_params)\u001b[39m\n\u001b[32m   2962\u001b[39m     out = X, y\n\u001b[32m   2964\u001b[39m \u001b[38;5;28;01mif\u001b[39;00m \u001b[38;5;129;01mnot\u001b[39;00m no_val_X \u001b[38;5;129;01mand\u001b[39;00m check_params.get(\u001b[33m\"\u001b[39m\u001b[33mensure_2d\u001b[39m\u001b[33m\"\u001b[39m, \u001b[38;5;28;01mTrue\u001b[39;00m):\n\u001b[32m-> \u001b[39m\u001b[32m2965\u001b[39m     \u001b[43m_check_n_features\u001b[49m\u001b[43m(\u001b[49m\u001b[43m_estimator\u001b[49m\u001b[43m,\u001b[49m\u001b[43m \u001b[49m\u001b[43mX\u001b[49m\u001b[43m,\u001b[49m\u001b[43m \u001b[49m\u001b[43mreset\u001b[49m\u001b[43m=\u001b[49m\u001b[43mreset\u001b[49m\u001b[43m)\u001b[49m\n\u001b[32m   2967\u001b[39m \u001b[38;5;28;01mreturn\u001b[39;00m out\n",
      "\u001b[36mFile \u001b[39m\u001b[32mc:\\Users\\bochk\\AppData\\Local\\Programs\\Python\\Python313\\Lib\\site-packages\\sklearn\\utils\\validation.py:2829\u001b[39m, in \u001b[36m_check_n_features\u001b[39m\u001b[34m(estimator, X, reset)\u001b[39m\n\u001b[32m   2826\u001b[39m     \u001b[38;5;28;01mreturn\u001b[39;00m\n\u001b[32m   2828\u001b[39m \u001b[38;5;28;01mif\u001b[39;00m n_features != estimator.n_features_in_:\n\u001b[32m-> \u001b[39m\u001b[32m2829\u001b[39m     \u001b[38;5;28;01mraise\u001b[39;00m \u001b[38;5;167;01mValueError\u001b[39;00m(\n\u001b[32m   2830\u001b[39m         \u001b[33mf\u001b[39m\u001b[33m\"\u001b[39m\u001b[33mX has \u001b[39m\u001b[38;5;132;01m{\u001b[39;00mn_features\u001b[38;5;132;01m}\u001b[39;00m\u001b[33m features, but \u001b[39m\u001b[38;5;132;01m{\u001b[39;00mestimator.\u001b[34m__class__\u001b[39m.\u001b[34m__name__\u001b[39m\u001b[38;5;132;01m}\u001b[39;00m\u001b[33m \u001b[39m\u001b[33m\"\u001b[39m\n\u001b[32m   2831\u001b[39m         \u001b[33mf\u001b[39m\u001b[33m\"\u001b[39m\u001b[33mis expecting \u001b[39m\u001b[38;5;132;01m{\u001b[39;00mestimator.n_features_in_\u001b[38;5;132;01m}\u001b[39;00m\u001b[33m features as input.\u001b[39m\u001b[33m\"\u001b[39m\n\u001b[32m   2832\u001b[39m     )\n",
      "\u001b[31mValueError\u001b[39m: X has 5 features, but RandomForestClassifier is expecting 9 features as input."
     ]
    }
   ],
   "source": []
  },
  {
   "cell_type": "code",
   "execution_count": 48,
   "metadata": {},
   "outputs": [
    {
     "ename": "AttributeError",
     "evalue": "'RandomForestClassifier' object has no attribute 'estimators_'",
     "output_type": "error",
     "traceback": [
      "\u001b[31m---------------------------------------------------------------------------\u001b[39m",
      "\u001b[31mAttributeError\u001b[39m                            Traceback (most recent call last)",
      "\u001b[36mCell\u001b[39m\u001b[36m \u001b[39m\u001b[32mIn[48]\u001b[39m\u001b[32m, line 11\u001b[39m\n\u001b[32m      8\u001b[39m sample_input = np.array([[\u001b[32m25\u001b[39m, \u001b[32m175\u001b[39m, \u001b[32m70\u001b[39m, \u001b[32m1\u001b[39m, \u001b[32m0\u001b[39m]])  \u001b[38;5;66;03m# Example: Age, Height, Weight, FitnessGoal, Duration\u001b[39;00m\n\u001b[32m     10\u001b[39m \u001b[38;5;66;03m# Predict recommendation\u001b[39;00m\n\u001b[32m---> \u001b[39m\u001b[32m11\u001b[39m prediction = \u001b[43mmodel\u001b[49m\u001b[43m.\u001b[49m\u001b[43mpredict\u001b[49m\u001b[43m(\u001b[49m\u001b[43msample_input\u001b[49m\u001b[43m)\u001b[49m\n\u001b[32m     12\u001b[39m \u001b[38;5;28mprint\u001b[39m(\u001b[33m\"\u001b[39m\u001b[33mRecommended Plan:\u001b[39m\u001b[33m\"\u001b[39m, prediction)\n",
      "\u001b[36mFile \u001b[39m\u001b[32mc:\\Users\\bochk\\AppData\\Local\\Programs\\Python\\Python313\\Lib\\site-packages\\sklearn\\ensemble\\_forest.py:904\u001b[39m, in \u001b[36mForestClassifier.predict\u001b[39m\u001b[34m(self, X)\u001b[39m\n\u001b[32m    883\u001b[39m \u001b[38;5;28;01mdef\u001b[39;00m\u001b[38;5;250m \u001b[39m\u001b[34mpredict\u001b[39m(\u001b[38;5;28mself\u001b[39m, X):\n\u001b[32m    884\u001b[39m \u001b[38;5;250m    \u001b[39m\u001b[33;03m\"\"\"\u001b[39;00m\n\u001b[32m    885\u001b[39m \u001b[33;03m    Predict class for X.\u001b[39;00m\n\u001b[32m    886\u001b[39m \n\u001b[32m   (...)\u001b[39m\u001b[32m    902\u001b[39m \u001b[33;03m        The predicted classes.\u001b[39;00m\n\u001b[32m    903\u001b[39m \u001b[33;03m    \"\"\"\u001b[39;00m\n\u001b[32m--> \u001b[39m\u001b[32m904\u001b[39m     proba = \u001b[38;5;28;43mself\u001b[39;49m\u001b[43m.\u001b[49m\u001b[43mpredict_proba\u001b[49m\u001b[43m(\u001b[49m\u001b[43mX\u001b[49m\u001b[43m)\u001b[49m\n\u001b[32m    906\u001b[39m     \u001b[38;5;28;01mif\u001b[39;00m \u001b[38;5;28mself\u001b[39m.n_outputs_ == \u001b[32m1\u001b[39m:\n\u001b[32m    907\u001b[39m         \u001b[38;5;28;01mreturn\u001b[39;00m \u001b[38;5;28mself\u001b[39m.classes_.take(np.argmax(proba, axis=\u001b[32m1\u001b[39m), axis=\u001b[32m0\u001b[39m)\n",
      "\u001b[36mFile \u001b[39m\u001b[32mc:\\Users\\bochk\\AppData\\Local\\Programs\\Python\\Python313\\Lib\\site-packages\\sklearn\\ensemble\\_forest.py:946\u001b[39m, in \u001b[36mForestClassifier.predict_proba\u001b[39m\u001b[34m(self, X)\u001b[39m\n\u001b[32m    944\u001b[39m check_is_fitted(\u001b[38;5;28mself\u001b[39m)\n\u001b[32m    945\u001b[39m \u001b[38;5;66;03m# Check data\u001b[39;00m\n\u001b[32m--> \u001b[39m\u001b[32m946\u001b[39m X = \u001b[38;5;28;43mself\u001b[39;49m\u001b[43m.\u001b[49m\u001b[43m_validate_X_predict\u001b[49m\u001b[43m(\u001b[49m\u001b[43mX\u001b[49m\u001b[43m)\u001b[49m\n\u001b[32m    948\u001b[39m \u001b[38;5;66;03m# Assign chunk of trees to jobs\u001b[39;00m\n\u001b[32m    949\u001b[39m n_jobs, _, _ = _partition_estimators(\u001b[38;5;28mself\u001b[39m.n_estimators, \u001b[38;5;28mself\u001b[39m.n_jobs)\n",
      "\u001b[36mFile \u001b[39m\u001b[32mc:\\Users\\bochk\\AppData\\Local\\Programs\\Python\\Python313\\Lib\\site-packages\\sklearn\\ensemble\\_forest.py:633\u001b[39m, in \u001b[36mBaseForest._validate_X_predict\u001b[39m\u001b[34m(self, X)\u001b[39m\n\u001b[32m    630\u001b[39m \u001b[38;5;250m\u001b[39m\u001b[33;03m\"\"\"\u001b[39;00m\n\u001b[32m    631\u001b[39m \u001b[33;03mValidate X whenever one tries to predict, apply, predict_proba.\"\"\"\u001b[39;00m\n\u001b[32m    632\u001b[39m check_is_fitted(\u001b[38;5;28mself\u001b[39m)\n\u001b[32m--> \u001b[39m\u001b[32m633\u001b[39m \u001b[38;5;28;01mif\u001b[39;00m \u001b[38;5;28;43mself\u001b[39;49m\u001b[43m.\u001b[49m\u001b[43mestimators_\u001b[49m[\u001b[32m0\u001b[39m]._support_missing_values(X):\n\u001b[32m    634\u001b[39m     ensure_all_finite = \u001b[33m\"\u001b[39m\u001b[33mallow-nan\u001b[39m\u001b[33m\"\u001b[39m\n\u001b[32m    635\u001b[39m \u001b[38;5;28;01melse\u001b[39;00m:\n",
      "\u001b[31mAttributeError\u001b[39m: 'RandomForestClassifier' object has no attribute 'estimators_'"
     ]
    }
   ],
   "source": [
    "import joblib\n",
    "import numpy as np\n",
    "\n",
    "# Load the saved model\n",
    "model = joblib.load(\"fitness_recommender.pkl\")\n",
    "\n",
    "# Sample input (Replace with real user data)\n",
    "sample_input = np.array([[25, 175, 70, 1, 0]])  # Example: Age, Height, Weight, FitnessGoal, Duration\n",
    "\n",
    "# Predict recommendation\n",
    "prediction = model.predict(sample_input)\n",
    "print(\"Recommended Plan:\", prediction)"
   ]
  },
  {
   "cell_type": "code",
   "execution_count": null,
   "metadata": {},
   "outputs": [
    {
     "name": "stdout",
     "output_type": "stream",
     "text": [
      "Recommended Plan: [0]\n"
     ]
    }
   ],
   "source": [
    "# Assuming `label_enc_exercise` was used for training\n",
    "recommended_plan = label_enc_exercise.inverse_transform(prediction)\n",
    "print(\"Recommended Plan:\", recommended_plan)\n"
   ]
  }
 ],
 "metadata": {
  "kernelspec": {
   "display_name": "Python 3",
   "language": "python",
   "name": "python3"
  },
  "language_info": {
   "codemirror_mode": {
    "name": "ipython",
    "version": 3
   },
   "file_extension": ".py",
   "mimetype": "text/x-python",
   "name": "python",
   "nbconvert_exporter": "python",
   "pygments_lexer": "ipython3",
   "version": "3.13.2"
  }
 },
 "nbformat": 4,
 "nbformat_minor": 2
}
